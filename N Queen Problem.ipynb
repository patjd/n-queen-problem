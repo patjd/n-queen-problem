{
 "cells": [
  {
   "cell_type": "code",
   "execution_count": 1,
   "metadata": {},
   "outputs": [],
   "source": [
    "from random import randrange, choice\n",
    "from statistics import mean, stdev\n",
    "from copy import deepcopy"
   ]
  },
  {
   "cell_type": "code",
   "execution_count": 2,
   "metadata": {},
   "outputs": [],
   "source": [
    "class State:\n",
    "    def __init__(self, no_of_queens, board_size, queen_pos=None):\n",
    "        self.board_size = board_size\n",
    "        if queen_pos is None:\n",
    "            self.no_of_queens = no_of_queens\n",
    "            self.queen_pos = frozenset(self.random_queen_position())\n",
    "        else:\n",
    "            self.queen_pos = frozenset(queen_pos)\n",
    "            self.no_of_queens = len(self.queen_pos)\n",
    "\n",
    "    # Place N queens at random position on the board\n",
    "    # Returns list of tuples with the queen coordinates\n",
    "    def random_queen_position(self):\n",
    "        open_columns = list(range(self.board_size))\n",
    "        queen_pos = [(open_columns.pop(randrange(len(open_columns))), randrange(self.board_size)) for _ in\n",
    "                           range(self.no_of_queens)]\n",
    "        return queen_pos\n",
    "\n",
    "    # Returns all the possible moves of the current state\n",
    "    def possible_moves(self):\n",
    "        moves = []\n",
    "        parent_queen_pos = list(self.queen_pos)\n",
    "        for queen_index, queen in enumerate(parent_queen_pos):\n",
    "            new_positions = [(queen[0], row) for row in range(self.board_size) if row != queen[1]]\n",
    "            for new_position in new_positions:\n",
    "                queen_pos = deepcopy(parent_queen_pos)\n",
    "                queen_pos[queen_index] = new_position\n",
    "                moves.append(State(self.no_of_queens, self.board_size, queen_pos))\n",
    "        return moves\n",
    "\n",
    "    # Checks if 2 queens are attacking each other or not\n",
    "    def is_attacking(self, queens, a, b):\n",
    "        if (a[0] == b[0]) or (a[1] == b[1]) or (abs(a[0] - b[0]) == abs(a[1] - b[1])):\n",
    "            return True\n",
    "        else:\n",
    "            return False\n",
    "            \n",
    "    # Returns number of attacking pairs of queens\n",
    "    def heuristic_value(self):\n",
    "        attacking_pairs = []\n",
    "        queen_pos = list(self.queen_pos)\n",
    "        left_to_check = deepcopy(queen_pos)\n",
    "        while left_to_check:\n",
    "            a = left_to_check.pop()\n",
    "            for b in left_to_check:\n",
    "                if self.is_attacking(queen_pos, a, b):\n",
    "                    attacking_pairs.append([a, b])\n",
    "        return len(attacking_pairs)"
   ]
  },
  {
   "cell_type": "code",
   "execution_count": 3,
   "metadata": {},
   "outputs": [],
   "source": [
    "# N queen problem\n",
    "class NQueenProblem:\n",
    "    def __init__(self, N, start_state=None):\n",
    "        if not start_state:\n",
    "            start_state = State(no_of_queens=N, board_size=N)\n",
    "        self.start_state = start_state\n",
    "\n",
    "    # Check if it is a goal state or not\n",
    "    def is_goal_state(self, state):\n",
    "        return state.heuristic_value() == 0\n",
    "\n",
    "    # Calculating heuristic value\n",
    "    def heuristic(self, state):\n",
    "        return state.heuristic_value()"
   ]
  },
  {
   "cell_type": "code",
   "execution_count": 4,
   "metadata": {},
   "outputs": [],
   "source": [
    "def min_heuristic_move(current_state, problem):\n",
    "    moves = current_state.possible_moves()\n",
    "    moves_heuristic = [problem.heuristic(move) for move in moves]\n",
    "    min_heuristic = min(moves_heuristic)\n",
    "\n",
    "    best_move = choice([move for index, move in enumerate(moves) if moves_heuristic[\n",
    "        index] == min_heuristic])\n",
    "    return best_move\n",
    "\n",
    "# Steepest ascent hill climbing algorithm \n",
    "def steepest_ascent_hill_climb(problem):\n",
    "    current_state = problem.start_state\n",
    "    current_state_heuristic = problem.heuristic(current_state)\n",
    "    path = []\n",
    "\n",
    "    while True:\n",
    "        path.append(current_state)\n",
    "        best_move = min_heuristic_move(current_state, problem)\n",
    "        best_move_heuristic = problem.heuristic(best_move)\n",
    "\n",
    "        if best_move_heuristic >= current_state_heuristic:\n",
    "            break\n",
    "        else:\n",
    "            current_state = best_move\n",
    "            current_state_heuristic = best_move_heuristic\n",
    "\n",
    "    return {'result': 'success' if problem.is_goal_state(current_state) else 'failure',\n",
    "            'solution': path,\n",
    "            'problem': problem}"
   ]
  },
  {
   "cell_type": "code",
   "execution_count": 5,
   "metadata": {},
   "outputs": [],
   "source": [
    "def random_heuristic_move(current_state, problem):\n",
    "    moves = current_state.possible_moves()\n",
    "    moves_heuristic = [problem.heuristic(move) for move in moves]\n",
    "    current_heuristic = problem.heuristic(current_state)\n",
    "\n",
    "    better_sol = []\n",
    "    for index, move in enumerate(moves):\n",
    "        if moves_heuristic[index] < current_heuristic:\n",
    "            better_sol.append(move)\n",
    "    if len(better_sol) != 0:\n",
    "        return choice(better_sol)\n",
    "    else:\n",
    "        return current_state\n",
    "\n",
    "# Stochastic hill climbing algorithm\n",
    "def stochastic_hill_climb(problem):\n",
    "    current_state = problem.start_state\n",
    "    current_state_heuristic = problem.heuristic(current_state)\n",
    "    path = []\n",
    "\n",
    "    while True:\n",
    "        path.append(current_state)\n",
    "        random_move = random_heuristic_move(current_state, problem)\n",
    "        random_move_heuristic = problem.heuristic(random_move)\n",
    "\n",
    "        if random_move_heuristic >= current_state_heuristic:\n",
    "            break\n",
    "        else:\n",
    "            current_state = random_move\n",
    "            current_state_heuristic = random_move_heuristic\n",
    "\n",
    "    return {'result': 'success' if problem.is_goal_state(current_state) else 'failure',\n",
    "            'solution': path,\n",
    "            'problem': problem}"
   ]
  },
  {
   "cell_type": "code",
   "execution_count": 6,
   "metadata": {},
   "outputs": [],
   "source": [
    "# Returns a results list containing all the possible solutions, successes and failures\n",
    "def print_result(problem_set, search_function):\n",
    "    results = []\n",
    "    for problem in problem_set:\n",
    "        result = search_function(problem)\n",
    "        result['path_length'] = len(result['solution']) - 1\n",
    "        results.append(result)\n",
    "    results = [results,\n",
    "               [result for result in results if result['result'] == 'success'],\n",
    "               [result for result in results if result['result'] == 'failure']]\n",
    "\n",
    "    num_iterations = len(results[0])\n",
    "    successful_steps = []\n",
    "    failure_steps = []\n",
    "    \n",
    "    for x in results[1]:\n",
    "        successful_steps.append(x['path_length'])\n",
    "    for x in results[2]:\n",
    "        failure_steps.append(x['path_length'])\n",
    "        \n",
    "    print(\"Success : \", len(results[1])*100/num_iterations, \"%\")\n",
    "    print(\"No of steps in each successful run : \", successful_steps)\n",
    "    print(\"Average no of steps when success : \", round(mean(successful_steps)), \"\\n\")\n",
    "    print(\"Failure : \", len(results[2])*100/num_iterations, \"%\")\n",
    "    print(\"No of steps in each failed run : \", failure_steps)\n",
    "    print(\"Average no of steps when failed : \", round(mean(failure_steps)))"
   ]
  },
  {
   "cell_type": "code",
   "execution_count": 7,
   "metadata": {},
   "outputs": [
    {
     "name": "stdout",
     "output_type": "stream",
     "text": [
      "Steepest Ascent Hill Climbing for 1000 randomly generated 8 Queens problem \n",
      "Success :  17.1 %\n",
      "No of steps in each successful run :  [3, 4, 3, 5, 5, 3, 3, 2, 3, 3, 4, 5, 5, 5, 4, 5, 3, 4, 3, 2, 4, 3, 4, 3, 5, 3, 5, 3, 3, 4, 3, 4, 4, 3, 4, 4, 4, 3, 4, 5, 3, 4, 3, 4, 4, 6, 4, 3, 4, 5, 5, 4, 3, 5, 5, 3, 5, 4, 5, 3, 4, 3, 3, 4, 3, 5, 4, 3, 4, 4, 4, 4, 4, 4, 4, 4, 4, 6, 3, 5, 5, 4, 5, 3, 4, 6, 4, 2, 4, 4, 4, 5, 4, 4, 6, 4, 3, 2, 3, 4, 5, 4, 5, 4, 3, 5, 3, 5, 5, 3, 4, 5, 4, 4, 3, 3, 3, 5, 5, 4, 5, 4, 5, 5, 4, 4, 4, 4, 4, 3, 5, 4, 6, 5, 4, 6, 4, 3, 5, 4, 4, 4, 5, 4, 4, 5, 2, 4, 5, 4, 4, 3, 4, 4, 6, 5, 5, 4, 5, 5, 4, 3, 5, 5, 5, 4, 5, 5, 4, 4, 4]\n",
      "Average no of steps when success :  4 \n",
      "\n",
      "Failure :  82.9 %\n",
      "No of steps in each failed run :  [1, 4, 3, 4, 4, 5, 3, 2, 3, 4, 4, 4, 2, 3, 3, 3, 4, 3, 2, 3, 3, 4, 3, 3, 3, 3, 3, 4, 3, 3, 2, 2, 4, 3, 3, 3, 5, 2, 3, 3, 2, 3, 5, 2, 3, 3, 3, 3, 3, 3, 3, 3, 3, 1, 3, 4, 3, 3, 2, 2, 2, 2, 2, 3, 3, 3, 4, 2, 2, 4, 3, 4, 4, 4, 3, 2, 3, 2, 3, 2, 4, 3, 3, 2, 2, 1, 4, 3, 5, 4, 5, 3, 3, 3, 3, 4, 3, 3, 2, 4, 3, 3, 3, 4, 4, 4, 2, 3, 4, 2, 2, 3, 4, 2, 2, 3, 2, 2, 3, 2, 3, 3, 3, 5, 4, 4, 1, 4, 4, 4, 2, 3, 4, 3, 2, 3, 1, 2, 3, 3, 2, 4, 3, 2, 2, 3, 2, 2, 3, 5, 3, 4, 2, 4, 2, 3, 4, 4, 2, 4, 3, 4, 5, 4, 4, 1, 6, 4, 4, 4, 2, 4, 3, 3, 4, 4, 4, 4, 4, 4, 3, 2, 2, 4, 4, 5, 4, 3, 1, 4, 4, 4, 2, 3, 5, 3, 4, 4, 3, 4, 4, 4, 4, 3, 2, 2, 3, 2, 2, 3, 3, 4, 3, 4, 3, 3, 2, 2, 4, 5, 4, 4, 3, 3, 3, 1, 4, 4, 2, 4, 4, 3, 2, 3, 4, 3, 4, 5, 2, 3, 4, 3, 2, 1, 1, 3, 3, 3, 3, 4, 4, 3, 4, 2, 4, 4, 3, 2, 3, 3, 5, 3, 2, 4, 5, 2, 2, 2, 2, 2, 2, 2, 3, 3, 4, 4, 4, 3, 3, 5, 3, 3, 2, 3, 3, 4, 2, 2, 3, 2, 3, 4, 4, 3, 4, 2, 1, 4, 5, 3, 3, 3, 4, 5, 3, 3, 4, 4, 3, 4, 2, 3, 4, 3, 2, 3, 3, 3, 3, 1, 4, 2, 3, 3, 4, 5, 2, 3, 2, 4, 3, 3, 3, 3, 2, 3, 4, 2, 5, 2, 4, 3, 4, 4, 2, 4, 4, 3, 2, 2, 3, 2, 4, 4, 2, 4, 3, 3, 2, 4, 2, 4, 3, 6, 4, 4, 3, 3, 3, 3, 4, 3, 5, 4, 3, 3, 4, 4, 4, 4, 3, 4, 3, 5, 5, 4, 3, 3, 5, 2, 2, 3, 3, 3, 2, 4, 2, 2, 2, 5, 4, 4, 2, 5, 4, 4, 3, 2, 3, 2, 3, 3, 2, 4, 3, 3, 2, 3, 2, 3, 1, 2, 2, 4, 4, 4, 2, 2, 3, 3, 3, 3, 3, 3, 5, 3, 4, 3, 4, 4, 3, 3, 2, 2, 4, 3, 4, 3, 1, 5, 3, 4, 1, 3, 3, 4, 3, 5, 3, 2, 2, 4, 3, 2, 4, 3, 2, 1, 4, 3, 3, 3, 2, 4, 4, 2, 3, 3, 2, 3, 3, 2, 3, 2, 4, 2, 2, 2, 3, 4, 3, 5, 5, 3, 3, 3, 3, 4, 3, 4, 2, 2, 3, 3, 4, 3, 3, 3, 3, 4, 3, 3, 3, 4, 3, 4, 4, 4, 2, 2, 4, 3, 2, 2, 2, 2, 5, 5, 4, 2, 4, 2, 2, 3, 3, 3, 3, 3, 2, 3, 3, 2, 2, 2, 4, 3, 3, 4, 4, 4, 3, 3, 4, 3, 2, 2, 5, 4, 4, 4, 2, 3, 2, 2, 4, 3, 4, 3, 3, 3, 2, 3, 2, 2, 4, 4, 5, 3, 2, 4, 4, 3, 3, 5, 3, 2, 3, 2, 4, 4, 3, 5, 3, 4, 3, 3, 2, 4, 3, 2, 2, 4, 4, 1, 3, 3, 3, 4, 4, 4, 1, 3, 2, 4, 4, 2, 3, 2, 3, 4, 3, 3, 4, 2, 4, 4, 3, 4, 2, 4, 4, 3, 4, 2, 3, 3, 3, 3, 5, 4, 3, 4, 5, 1, 3, 3, 3, 4, 1, 3, 2, 4, 4, 3, 1, 3, 3, 3, 1, 4, 2, 1, 4, 1, 5, 2, 1, 4, 2, 3, 4, 4, 4, 2, 3, 4, 3, 2, 3, 2, 4, 4, 3, 5, 3, 3, 3, 3, 1, 4, 4, 4, 3, 4, 4, 1, 2, 4, 3, 3, 1, 2, 3, 4, 1, 4, 4, 3, 3, 2, 2, 4, 3, 2, 3, 3, 2, 3, 3, 3, 3, 3, 4, 1, 4, 4, 4, 2, 4, 4, 3, 2, 3, 2, 3, 2, 4, 3, 3, 3, 3, 3, 3, 3, 2, 2, 4, 3, 3, 3, 4, 4, 2, 2, 4, 5, 2, 3, 4, 3, 3, 2, 4, 5, 3, 2, 3, 2, 3, 3, 3, 3, 3, 3, 1, 2, 2, 3, 4, 3, 4, 1, 4, 3, 2, 3, 1, 4, 3, 2, 3, 4, 3, 3, 2, 2, 3, 3, 4, 4, 2, 3, 4, 3, 4, 3, 2, 3, 1, 4, 3, 3, 2, 3, 3, 3, 3, 3, 3, 2, 3, 3, 3, 4, 2, 3, 3, 2, 2]\n",
      "Average no of steps when failed :  3\n"
     ]
    }
   ],
   "source": [
    "print(\"Steepest Ascent Hill Climbing for 1000 randomly generated 8 Queens problem \")\n",
    "queens_state = [NQueenProblem(8) for _ in range(1000)]\n",
    "print_result(queens_state, steepest_ascent_hill_climb)"
   ]
  },
  {
   "cell_type": "code",
   "execution_count": 8,
   "metadata": {},
   "outputs": [
    {
     "name": "stdout",
     "output_type": "stream",
     "text": [
      "Steepest Ascent Hill Climbing for 1000 randomly generated 10 Queens problem \n",
      "Success :  5.7 %\n",
      "No of steps in each successful run :  [7, 7, 5, 6, 6, 6, 4, 5, 7, 5, 6, 5, 4, 3, 5, 6, 5, 4, 8, 5, 6, 6, 5, 6, 6, 3, 4, 4, 7, 3, 6, 7, 5, 5, 4, 7, 5, 6, 5, 5, 5, 4, 5, 5, 5, 7, 6, 6, 6, 3, 5, 7, 4, 5, 6, 5, 6]\n",
      "Average no of steps when success :  5 \n",
      "\n",
      "Failure :  94.3 %\n",
      "No of steps in each failed run :  [5, 4, 5, 4, 4, 3, 3, 5, 4, 5, 4, 6, 4, 4, 4, 4, 4, 3, 5, 3, 5, 5, 4, 4, 4, 4, 4, 5, 3, 1, 5, 5, 5, 3, 2, 3, 4, 5, 4, 6, 3, 4, 3, 4, 3, 3, 5, 5, 3, 5, 3, 5, 2, 5, 4, 3, 3, 4, 4, 2, 4, 5, 2, 4, 4, 3, 4, 4, 2, 3, 5, 3, 2, 5, 5, 3, 3, 3, 5, 3, 3, 4, 5, 4, 3, 3, 4, 4, 4, 4, 1, 5, 6, 3, 3, 3, 5, 3, 4, 5, 4, 4, 5, 3, 4, 5, 5, 7, 2, 3, 3, 2, 3, 3, 5, 4, 5, 3, 3, 4, 4, 4, 3, 2, 4, 5, 6, 4, 4, 4, 5, 2, 4, 4, 5, 3, 3, 2, 4, 4, 3, 5, 5, 5, 3, 3, 6, 4, 4, 4, 3, 3, 4, 5, 3, 5, 3, 3, 4, 2, 4, 4, 3, 5, 4, 4, 6, 3, 4, 2, 3, 4, 3, 4, 4, 3, 4, 3, 5, 4, 3, 5, 4, 4, 4, 4, 4, 4, 4, 5, 4, 5, 5, 4, 4, 5, 3, 5, 3, 4, 5, 4, 5, 5, 2, 3, 4, 6, 3, 3, 3, 3, 5, 3, 5, 3, 3, 3, 3, 3, 3, 3, 4, 5, 3, 4, 4, 3, 5, 4, 3, 4, 4, 3, 4, 3, 4, 4, 4, 4, 6, 3, 4, 4, 4, 5, 2, 4, 1, 3, 3, 5, 5, 3, 3, 5, 5, 3, 2, 5, 3, 4, 1, 3, 3, 4, 6, 4, 3, 3, 2, 3, 4, 4, 4, 6, 5, 3, 5, 5, 3, 5, 5, 4, 3, 5, 2, 3, 5, 4, 5, 4, 4, 4, 4, 3, 2, 3, 5, 5, 3, 4, 4, 5, 2, 4, 4, 5, 2, 3, 6, 4, 4, 2, 4, 5, 5, 4, 4, 4, 3, 5, 4, 3, 4, 5, 4, 4, 3, 5, 2, 4, 2, 5, 4, 4, 3, 4, 4, 5, 4, 4, 4, 4, 4, 4, 5, 4, 5, 5, 3, 2, 5, 2, 3, 4, 5, 4, 4, 4, 3, 4, 6, 3, 3, 3, 4, 6, 5, 4, 3, 5, 3, 3, 5, 4, 4, 4, 5, 4, 5, 2, 3, 4, 3, 4, 5, 3, 4, 4, 4, 5, 4, 4, 5, 5, 5, 6, 3, 2, 3, 3, 3, 4, 5, 3, 4, 4, 5, 3, 3, 4, 6, 3, 4, 3, 3, 5, 3, 2, 3, 3, 5, 4, 3, 4, 3, 2, 4, 4, 6, 2, 4, 3, 5, 4, 5, 5, 5, 4, 4, 5, 4, 4, 4, 5, 3, 3, 5, 3, 3, 4, 4, 4, 5, 5, 2, 4, 3, 4, 4, 3, 3, 4, 4, 5, 3, 5, 5, 4, 5, 3, 4, 4, 4, 4, 3, 3, 5, 3, 3, 4, 4, 3, 2, 4, 3, 5, 5, 3, 4, 4, 5, 4, 4, 6, 3, 5, 6, 4, 6, 4, 3, 4, 4, 5, 6, 3, 4, 5, 4, 5, 2, 4, 6, 4, 2, 5, 4, 2, 4, 3, 5, 4, 3, 5, 2, 2, 4, 4, 4, 3, 4, 6, 4, 1, 5, 4, 4, 2, 4, 4, 4, 5, 3, 3, 2, 4, 5, 4, 4, 5, 4, 4, 6, 3, 2, 5, 5, 5, 4, 6, 5, 5, 5, 6, 4, 4, 3, 6, 6, 2, 4, 5, 4, 4, 6, 5, 5, 5, 5, 4, 4, 3, 4, 2, 4, 3, 4, 3, 4, 3, 5, 2, 5, 5, 3, 4, 4, 2, 4, 5, 3, 2, 5, 4, 2, 4, 4, 5, 4, 3, 3, 5, 5, 4, 5, 4, 3, 5, 5, 6, 4, 5, 4, 2, 5, 6, 5, 5, 5, 4, 4, 4, 4, 4, 3, 5, 3, 4, 5, 3, 2, 4, 2, 4, 2, 7, 3, 3, 3, 4, 4, 3, 3, 4, 4, 5, 4, 4, 3, 5, 3, 4, 4, 5, 2, 5, 3, 5, 4, 5, 5, 4, 4, 5, 4, 3, 4, 5, 3, 5, 2, 5, 6, 5, 3, 4, 4, 4, 3, 4, 4, 4, 4, 3, 4, 7, 5, 4, 6, 4, 3, 4, 5, 3, 5, 4, 3, 6, 3, 4, 4, 3, 4, 4, 4, 3, 3, 2, 2, 3, 3, 2, 4, 5, 2, 2, 3, 4, 4, 3, 5, 4, 3, 4, 6, 2, 5, 5, 4, 6, 4, 5, 4, 4, 4, 3, 4, 3, 3, 4, 4, 5, 5, 4, 4, 4, 5, 4, 5, 3, 3, 4, 4, 4, 4, 7, 4, 4, 5, 5, 5, 5, 2, 4, 3, 5, 4, 5, 5, 5, 4, 3, 3, 3, 5, 3, 3, 5, 4, 4, 3, 4, 5, 4, 5, 5, 3, 5, 4, 6, 4, 3, 5, 5, 5, 6, 4, 5, 5, 4, 3, 5, 4, 3, 5, 3, 5, 7, 4, 6, 4, 4, 4, 3, 5, 4, 6, 2, 3, 4, 3, 5, 7, 5, 4, 4, 3, 3, 5, 4, 4, 4, 5, 5, 3, 4, 4, 4, 4, 5, 6, 4, 4, 3, 5, 3, 4, 4, 4, 5, 4, 4, 4, 3, 4, 5, 3, 4, 5, 5, 5, 3, 5, 4, 4, 4, 5, 4, 4, 5, 4, 3, 4, 5, 2, 3, 3, 2, 4, 3, 4, 5, 5, 2, 4, 4, 5, 5, 4, 5, 4, 4, 4, 4, 3, 3, 3, 3, 5, 3, 4, 3, 5, 6, 4, 5, 5, 2, 4, 4, 4, 3, 2, 4, 3, 4, 4, 5, 6, 5, 4, 4, 5, 1, 5, 4, 4, 2, 3, 5, 3]\n",
      "Average no of steps when failed :  4\n"
     ]
    }
   ],
   "source": [
    "print(\"Steepest Ascent Hill Climbing for 1000 randomly generated 10 Queens problem \")\n",
    "queens_state = [NQueenProblem(10) for _ in range(1000)]\n",
    "print_result(queens_state, steepest_ascent_hill_climb)"
   ]
  },
  {
   "cell_type": "code",
   "execution_count": 9,
   "metadata": {},
   "outputs": [
    {
     "name": "stdout",
     "output_type": "stream",
     "text": [
      "Stochastic Hill Climbing for 1000 randomly generated 8 Queens problem \n",
      "Success :  16.2 %\n",
      "No of steps in each successful run :  [4, 8, 2, 7, 5, 5, 7, 4, 2, 8, 8, 7, 5, 5, 6, 6, 6, 5, 6, 4, 7, 4, 7, 5, 6, 9, 5, 4, 5, 6, 5, 9, 9, 6, 6, 4, 5, 5, 5, 8, 4, 6, 4, 5, 6, 4, 7, 5, 5, 7, 6, 7, 6, 7, 2, 9, 5, 6, 7, 2, 6, 9, 3, 6, 6, 8, 9, 8, 5, 6, 5, 8, 7, 6, 9, 9, 6, 8, 4, 5, 5, 8, 4, 6, 4, 4, 5, 9, 6, 5, 6, 4, 7, 6, 6, 7, 5, 6, 4, 4, 4, 7, 4, 4, 7, 7, 7, 2, 5, 6, 7, 9, 7, 5, 3, 8, 7, 9, 8, 8, 7, 7, 5, 7, 6, 7, 6, 7, 5, 4, 8, 5, 5, 7, 6, 8, 5, 4, 6, 5, 3, 8, 3, 5, 8, 5, 7, 5, 6, 8, 4, 4, 10, 7, 5, 7, 6, 4, 5, 8, 4, 5]\n",
      "Average no of steps when success :  6 \n",
      "\n",
      "Failure :  83.8 %\n",
      "No of steps in each failed run :  [5, 7, 4, 5, 5, 7, 6, 1, 6, 5, 5, 6, 4, 4, 4, 8, 6, 5, 1, 5, 6, 6, 4, 3, 7, 5, 6, 3, 4, 4, 4, 3, 5, 2, 6, 5, 6, 3, 6, 5, 4, 4, 5, 3, 4, 6, 7, 6, 5, 5, 3, 7, 5, 6, 4, 4, 2, 8, 7, 4, 7, 4, 1, 5, 4, 5, 5, 6, 5, 6, 4, 4, 6, 3, 4, 5, 5, 5, 5, 7, 4, 2, 9, 4, 3, 2, 7, 5, 6, 6, 6, 4, 4, 9, 2, 7, 3, 5, 5, 7, 4, 1, 4, 3, 4, 2, 3, 10, 4, 5, 4, 5, 5, 3, 5, 5, 4, 8, 5, 6, 8, 4, 7, 5, 5, 8, 3, 5, 6, 5, 4, 7, 3, 5, 3, 5, 8, 6, 2, 8, 1, 6, 5, 5, 7, 4, 8, 6, 7, 5, 3, 3, 4, 2, 4, 5, 8, 4, 2, 5, 2, 4, 3, 7, 4, 5, 6, 5, 5, 2, 7, 5, 3, 7, 6, 6, 6, 3, 6, 4, 4, 7, 6, 5, 5, 4, 5, 3, 5, 5, 4, 6, 4, 5, 5, 6, 4, 4, 2, 4, 6, 3, 4, 4, 2, 6, 3, 5, 4, 9, 5, 4, 3, 1, 4, 7, 3, 5, 5, 5, 6, 5, 5, 4, 4, 3, 3, 2, 3, 5, 6, 4, 5, 3, 5, 6, 6, 5, 3, 3, 5, 6, 4, 5, 5, 5, 3, 2, 3, 5, 2, 6, 3, 5, 1, 7, 7, 5, 3, 4, 5, 5, 5, 4, 1, 5, 3, 5, 6, 7, 4, 8, 5, 5, 7, 7, 6, 4, 3, 3, 7, 6, 6, 5, 3, 6, 6, 5, 5, 6, 6, 6, 2, 4, 4, 9, 3, 4, 9, 5, 5, 1, 4, 2, 5, 3, 5, 4, 7, 3, 6, 5, 4, 4, 5, 1, 6, 3, 6, 4, 4, 7, 7, 8, 3, 7, 5, 2, 5, 3, 4, 5, 2, 4, 6, 5, 6, 4, 4, 5, 4, 5, 3, 5, 5, 5, 2, 4, 6, 4, 6, 5, 8, 4, 7, 5, 5, 5, 3, 4, 5, 4, 3, 4, 4, 7, 3, 6, 6, 4, 3, 7, 3, 7, 3, 4, 4, 2, 3, 3, 3, 5, 6, 5, 5, 5, 6, 4, 2, 7, 5, 6, 1, 4, 8, 4, 6, 3, 5, 6, 6, 6, 4, 4, 5, 3, 3, 6, 5, 4, 5, 4, 7, 6, 4, 7, 7, 2, 3, 8, 5, 7, 6, 5, 4, 3, 6, 3, 5, 3, 3, 4, 4, 1, 5, 6, 2, 2, 4, 5, 3, 5, 3, 8, 7, 3, 5, 7, 6, 5, 7, 1, 6, 6, 6, 1, 3, 5, 2, 4, 6, 6, 7, 3, 4, 5, 5, 6, 6, 6, 3, 6, 4, 6, 5, 3, 4, 4, 6, 3, 2, 7, 6, 3, 3, 5, 5, 7, 6, 2, 6, 5, 2, 6, 6, 6, 5, 6, 6, 2, 5, 2, 3, 5, 6, 7, 5, 1, 5, 4, 5, 7, 3, 8, 3, 6, 6, 3, 4, 6, 4, 6, 9, 5, 3, 4, 4, 3, 6, 7, 2, 3, 4, 2, 5, 1, 5, 3, 3, 5, 5, 5, 6, 6, 5, 4, 5, 7, 7, 4, 5, 6, 5, 5, 4, 5, 4, 3, 4, 5, 7, 6, 3, 5, 9, 6, 3, 3, 3, 6, 5, 7, 7, 5, 4, 8, 3, 5, 4, 3, 3, 3, 4, 6, 4, 5, 6, 4, 8, 7, 6, 5, 6, 3, 3, 4, 4, 5, 6, 6, 3, 4, 6, 3, 6, 2, 4, 5, 5, 4, 3, 8, 7, 6, 3, 4, 5, 6, 7, 5, 4, 5, 0, 7, 4, 4, 6, 3, 4, 5, 4, 4, 4, 4, 3, 7, 3, 4, 5, 5, 7, 5, 2, 4, 3, 5, 2, 3, 5, 5, 7, 6, 5, 3, 5, 7, 3, 8, 4, 4, 4, 5, 4, 5, 6, 4, 3, 2, 7, 4, 4, 7, 5, 5, 4, 5, 6, 5, 6, 4, 0, 3, 4, 5, 5, 7, 5, 5, 8, 5, 2, 6, 2, 5, 3, 4, 4, 6, 4, 5, 9, 5, 6, 3, 3, 7, 7, 4, 3, 3, 4, 6, 3, 3, 6, 5, 3, 3, 6, 4, 4, 6, 4, 6, 7, 5, 4, 5, 5, 4, 6, 4, 3, 4, 3, 3, 3, 4, 5, 4, 6, 8, 6, 7, 8, 6, 7, 6, 7, 8, 8, 7, 5, 4, 6, 2, 3, 5, 5, 5, 4, 5, 5, 3, 6, 5, 3, 4, 4, 0, 6, 5, 5, 3, 4, 3, 9, 7, 5, 5, 6, 5, 5, 5, 4, 4, 5, 8, 7, 2, 5, 4, 4, 1, 4, 5, 6, 1, 5, 7, 4, 5, 4, 6, 4, 5, 3, 4, 9, 6, 2, 3, 3, 5, 5, 3, 2, 5, 4, 1, 6, 6, 4, 3, 3, 4, 5, 4, 6, 1, 3, 3, 2, 6, 4, 4, 5, 1]\n",
      "Average no of steps when failed :  5\n"
     ]
    }
   ],
   "source": [
    "print(\"Stochastic Hill Climbing for 1000 randomly generated 8 Queens problem \")\n",
    "queens_state = [NQueenProblem(8) for _ in range(1000)]\n",
    "print_result(queens_state, stochastic_hill_climb)"
   ]
  },
  {
   "cell_type": "code",
   "execution_count": 10,
   "metadata": {},
   "outputs": [
    {
     "name": "stdout",
     "output_type": "stream",
     "text": [
      "Steepest Ascent Hill Climbing for 1000 randomly generated 20 Queens problem \n",
      "Success :  2.0 %\n",
      "No of steps in each successful run :  [12, 11, 10, 12, 11, 10, 12, 10, 10, 12, 10, 12, 12, 13, 10, 10, 11, 10, 11, 10]\n",
      "Average no of steps when success :  11 \n",
      "\n",
      "Failure :  98.0 %\n",
      "No of steps in each failed run :  [7, 8, 9, 8, 7, 9, 8, 9, 9, 9, 7, 11, 11, 8, 7, 6, 8, 9, 11, 8, 7, 10, 6, 8, 10, 9, 10, 8, 8, 7, 6, 8, 6, 11, 10, 7, 7, 6, 7, 8, 9, 7, 10, 9, 7, 10, 8, 10, 10, 8, 6, 9, 8, 10, 7, 7, 6, 8, 11, 8, 8, 10, 8, 8, 9, 7, 7, 6, 8, 8, 10, 7, 10, 9, 6, 9, 6, 6, 8, 8, 8, 8, 9, 12, 10, 10, 11, 8, 8, 9, 8, 7, 9, 6, 7, 9, 6, 10, 8, 8, 11, 7, 8, 8, 8, 8, 7, 7, 9, 9, 10, 9, 6, 9, 7, 12, 8, 6, 8, 6, 8, 10, 8, 10, 11, 8, 8, 7, 9, 5, 10, 6, 8, 10, 8, 10, 9, 9, 9, 12, 9, 11, 6, 6, 6, 8, 10, 6, 10, 9, 6, 8, 7, 9, 7, 7, 8, 9, 7, 8, 6, 6, 8, 8, 8, 8, 9, 8, 7, 8, 10, 9, 9, 8, 11, 10, 8, 6, 8, 9, 8, 9, 7, 9, 8, 7, 8, 9, 5, 11, 7, 9, 7, 8, 9, 8, 10, 8, 10, 7, 9, 8, 11, 9, 10, 8, 8, 9, 9, 6, 8, 8, 6, 8, 6, 9, 7, 7, 9, 9, 6, 8, 6, 10, 8, 10, 8, 7, 9, 9, 8, 7, 10, 7, 7, 6, 11, 7, 6, 9, 9, 10, 9, 9, 9, 8, 10, 8, 8, 10, 9, 7, 7, 7, 8, 8, 8, 6, 8, 8, 6, 7, 9, 8, 8, 6, 9, 9, 7, 11, 8, 9, 8, 11, 11, 7, 9, 7, 8, 7, 6, 7, 9, 11, 7, 8, 7, 6, 10, 7, 8, 7, 8, 10, 7, 6, 7, 8, 7, 8, 7, 8, 6, 10, 9, 10, 8, 10, 7, 7, 8, 10, 8, 9, 7, 9, 9, 9, 11, 8, 8, 7, 9, 9, 6, 8, 10, 8, 9, 10, 9, 8, 8, 8, 7, 9, 8, 7, 6, 11, 13, 10, 9, 7, 9, 8, 11, 6, 10, 9, 8, 8, 8, 6, 8, 10, 7, 8, 6, 7, 8, 10, 8, 7, 8, 9, 9, 9, 9, 8, 10, 7, 9, 8, 8, 9, 9, 9, 7, 8, 8, 8, 7, 10, 8, 9, 8, 7, 8, 10, 9, 7, 9, 9, 8, 9, 8, 11, 5, 10, 6, 7, 7, 8, 8, 10, 8, 7, 9, 9, 6, 10, 7, 9, 9, 10, 7, 10, 8, 7, 6, 7, 9, 8, 8, 8, 7, 9, 10, 11, 7, 7, 11, 9, 8, 10, 9, 6, 8, 7, 9, 8, 10, 8, 8, 8, 9, 7, 8, 9, 10, 6, 8, 7, 6, 9, 11, 6, 10, 8, 10, 9, 9, 9, 9, 7, 8, 9, 7, 9, 7, 11, 6, 9, 7, 8, 9, 11, 11, 10, 7, 9, 8, 10, 9, 8, 9, 8, 7, 7, 10, 7, 8, 9, 10, 5, 8, 7, 10, 8, 7, 7, 6, 9, 7, 8, 7, 11, 10, 8, 11, 8, 10, 7, 8, 10, 6, 12, 7, 7, 8, 9, 9, 8, 9, 9, 10, 10, 7, 9, 10, 11, 7, 9, 8, 9, 8, 11, 11, 8, 6, 11, 9, 9, 8, 10, 7, 8, 8, 8, 6, 10, 9, 8, 11, 11, 9, 10, 7, 9, 10, 9, 8, 7, 9, 9, 9, 7, 8, 7, 9, 7, 8, 10, 7, 9, 7, 7, 12, 8, 8, 8, 8, 5, 9, 8, 6, 10, 7, 12, 9, 8, 8, 7, 9, 9, 7, 8, 9, 9, 7, 8, 9, 8, 9, 7, 8, 8, 7, 7, 9, 7, 9, 8, 8, 9, 8, 8, 7, 10, 10, 7, 6, 7, 9, 9, 9, 8, 7, 8, 11, 10, 5, 9, 10, 10, 9, 7, 9, 9, 7, 6, 7, 8, 9, 10, 9, 10, 9, 9, 7, 9, 8, 8, 8, 7, 8, 7, 10, 7, 7, 7, 10, 7, 9, 10, 6, 10, 8, 9, 9, 7, 9, 7, 7, 8, 7, 10, 7, 8, 6, 9, 7, 8, 8, 8, 6, 6, 8, 7, 7, 9, 7, 6, 7, 8, 8, 8, 7, 7, 9, 8, 6, 8, 7, 8, 9, 9, 7, 8, 6, 5, 9, 7, 9, 7, 8, 8, 7, 10, 8, 8, 11, 10, 7, 9, 9, 7, 10, 9, 12, 7, 10, 8, 10, 8, 7, 9, 9, 10, 10, 10, 6, 10, 8, 9, 7, 8, 9, 11, 9, 7, 8, 8, 8, 7, 9, 9, 7, 9, 8, 9, 9, 7, 10, 8, 10, 7, 9, 9, 8, 7, 8, 7, 7, 5, 8, 9, 9, 9, 6, 8, 9, 8, 8, 11, 8, 9, 9, 10, 10, 7, 8, 11, 10, 9, 10, 9, 6, 5, 8, 8, 10, 9, 9, 7, 8, 8, 9, 8, 9, 8, 9, 10, 9, 9, 11, 10, 8, 8, 8, 8, 10, 8, 7, 8, 9, 9, 10, 8, 9, 12, 8, 8, 9, 10, 11, 8, 8, 7, 9, 10, 9, 9, 10, 7, 8, 10, 10, 5, 8, 8, 9, 9, 11, 7, 6, 9, 8, 8, 7, 10, 9, 9, 8, 7, 11, 7, 9, 9, 8, 9, 9, 9, 9, 7, 5, 9, 8, 8, 9, 9, 9, 9, 11, 6, 8, 10, 8, 9, 7, 9, 10, 7, 8, 8, 8, 10, 8, 11, 9, 7, 10, 7, 8, 8, 8, 8, 9, 9, 7, 9, 9, 9, 7, 6, 8, 7, 7, 8, 9, 9, 8, 10, 10, 9, 4, 7, 10, 9, 6, 6, 7, 9, 4, 8, 7, 9, 7, 8, 8, 9, 9, 9, 8, 10, 8, 9, 10, 9, 7, 10, 8, 7, 8, 10, 9, 8, 8, 9, 9, 7, 7, 6, 8, 9, 8, 9, 8, 8, 9, 8, 7, 8, 8, 11, 10, 8, 8, 10]\n",
      "Average no of steps when failed :  8\n"
     ]
    }
   ],
   "source": [
    "print(\"Steepest Ascent Hill Climbing for 1000 randomly generated 20 Queens problem \")\n",
    "queens_state = [NQueenProblem(20) for _ in range(1000)]\n",
    "print_result(queens_state, steepest_ascent_hill_climb)"
   ]
  }
 ],
 "metadata": {
  "kernelspec": {
   "display_name": "Python 3",
   "language": "python",
   "name": "python3"
  },
  "language_info": {
   "codemirror_mode": {
    "name": "ipython",
    "version": 3
   },
   "file_extension": ".py",
   "mimetype": "text/x-python",
   "name": "python",
   "nbconvert_exporter": "python",
   "pygments_lexer": "ipython3",
   "version": "3.7.1"
  }
 },
 "nbformat": 4,
 "nbformat_minor": 2
}
